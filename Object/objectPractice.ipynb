{
 "cells": [
  {
   "cell_type": "code",
   "execution_count": 1,
   "id": "b2cb441b",
   "metadata": {},
   "outputs": [
    {
     "name": "stdout",
     "output_type": "stream",
     "text": [
      "60\n"
     ]
    }
   ],
   "source": [
    "class Car:\n",
    "    def drive(self):\n",
    "        self.speed = 60\n",
    "        \n",
    "myCar = Car()\n",
    "\n",
    "myCar.speed = 0\n",
    "myCar.model = 'E-Class'\n",
    "myCar.color = 'blue'\n",
    "myCar.year = '2017'\n",
    "\n",
    "myCar.drive()\n",
    "print(myCar.speed)"
   ]
  },
  {
   "cell_type": "code",
   "execution_count": 4,
   "id": "07286a06",
   "metadata": {},
   "outputs": [
    {
     "name": "stdout",
     "output_type": "stream",
     "text": [
      "속도:0  색상:blue  모델:E-Class\n"
     ]
    }
   ],
   "source": [
    "class Car:\n",
    "    def __init__(self, speed, color, model):\n",
    "        self.speed = speed\n",
    "        self.color = color\n",
    "        self.model = model\n",
    "    \n",
    "# Overriding (재정의) 이라 한다.    \n",
    "    def __str__(self):\n",
    "        msg = f\"속도:{self.speed}  색상:{self.color}  모델:{self.model}\"\n",
    "        return msg\n",
    "    \n",
    "myCar = Car(0, 'blue', 'E-Class')\n",
    "print(myCar)"
   ]
  },
  {
   "cell_type": "code",
   "execution_count": 5,
   "id": "2390bc40",
   "metadata": {},
   "outputs": [
    {
     "name": "stdout",
     "output_type": "stream",
     "text": [
      "자동차 객체를 생성하였습니다.\n",
      "현재 자동차의 속도는 0\n",
      "자동차의 색상은 Red\n",
      "자동차의 모델은 E-Class\n",
      "자동차 주행을 시작합니다.\n",
      "현재 자동차의 속도는 60\n"
     ]
    }
   ],
   "source": [
    "class Car:\n",
    "    def __init__(self, speed, color, model):\n",
    "        self.speed = speed\n",
    "        self.color = color\n",
    "        self.model = model\n",
    "        \n",
    "    def drive(self):\n",
    "        self.speed = 60\n",
    "        \n",
    "myCar = Car(0, 'Red', 'E-Class')\n",
    "print('자동차 객체를 생성하였습니다.')\n",
    "print(f'현재 자동차의 속도는 {myCar.speed}')\n",
    "print(f'자동차의 색상은 {myCar.color}')\n",
    "print(f'자동차의 모델은 {myCar.model}')\n",
    "print('자동차 주행을 시작합니다.')\n",
    "myCar.drive()\n",
    "print(f'현재 자동차의 속도는 {myCar.speed}')"
   ]
  },
  {
   "cell_type": "code",
   "execution_count": 6,
   "id": "9bb3e34c",
   "metadata": {},
   "outputs": [
    {
     "name": "stdout",
     "output_type": "stream",
     "text": [
      "Rectangle: 100, 200\n",
      "20000\n"
     ]
    }
   ],
   "source": [
    "class Rectangle:\n",
    "    def __init__(self, width, hight):\n",
    "        self.width = width\n",
    "        self.hight = hight\n",
    "        \n",
    "    def getArea(self):\n",
    "        return self.width * self.hight\n",
    "    \n",
    "    def __str__(self):\n",
    "        return f'Rectangle: {self.width}, {self.hight}'\n",
    "    \n",
    "r1 = Rectangle(100, 200)\n",
    "print(r1)\n",
    "print(r1.getArea())"
   ]
  },
  {
   "cell_type": "code",
   "execution_count": 2,
   "id": "6aefb3dd",
   "metadata": {},
   "outputs": [],
   "source": []
  }
 ],
 "metadata": {
  "kernelspec": {
   "display_name": "Python 3",
   "language": "python",
   "name": "python3"
  },
  "language_info": {
   "codemirror_mode": {
    "name": "ipython",
    "version": 3
   },
   "file_extension": ".py",
   "mimetype": "text/x-python",
   "name": "python",
   "nbconvert_exporter": "python",
   "pygments_lexer": "ipython3",
   "version": "3.8.6"
  }
 },
 "nbformat": 4,
 "nbformat_minor": 5
}
